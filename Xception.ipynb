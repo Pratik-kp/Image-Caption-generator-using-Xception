{
 "cells": [
  {
   "cell_type": "code",
   "execution_count": 5,
   "metadata": {},
   "outputs": [],
   "source": [
    "from tensorflow.keras.layers import Input, Conv2D, SeparableConv2D, \\\n",
    "    Add, Dense ,BatchNormalization, ReLU, MaxPool2D, GlobalAvgPool2D"
   ]
  },
  {
   "cell_type": "code",
   "execution_count": 24,
   "metadata": {},
   "outputs": [],
   "source": [
    "def conv_bn(x,filters,kernel_size,strides=1):\n",
    "    x=Conv2D(filters=filters,kernel_size=kernel_size,strides=strides, padding='same',use_bias=False)(x)\n",
    "    x=BatchNormalization()(x)\n",
    "    return x"
   ]
  },
  {
   "cell_type": "code",
   "execution_count": 25,
   "metadata": {},
   "outputs": [],
   "source": [
    "def sep_bn(x,filters,kernel_size,strides=1):\n",
    "    x=SeparableConv2D(filters=filters,kernel_size=kernel_size,strides=strides, padding='same',use_bias=False)(x)\n",
    "    x=BatchNormalization()(x)\n",
    "    return x"
   ]
  },
  {
   "cell_type": "code",
   "execution_count": 18,
   "metadata": {},
   "outputs": [],
   "source": [
    "def entry_flow(x):\n",
    "    x=conv_bn(x,filters=32, kernel_size=3, strides=2)\n",
    "    x=ReLU()(x)\n",
    "    x=conv_bn(x,filters=64, kernel_size=3)\n",
    "    tensor=ReLU()(x)    \n",
    "    x=sep_bn(tensor, filters=128,kernel_size=3)\n",
    "    x=ReLU()(x)\n",
    "    x=sep_bn(x, filters=128,kernel_size=3)\n",
    "    x=MaxPool2D(pool_size=3,strides=2,padding='same')(x)    \n",
    "    tensor=conv_bn(tensor, filters=128, kernel_size=1,strides=2)\n",
    "    x=Add()([tensor,x])    \n",
    "    x=ReLU()(x)\n",
    "    x=sep_bn(x, filters=256,kernel_size=3)\n",
    "    x=ReLU()(x)\n",
    "    x=sep_bn(x, filters=256,kernel_size=3)\n",
    "    x=MaxPool2D(pool_size=3,strides=2,padding='same')(x)\n",
    "    tensor=conv_bn(tensor, filters=256, kernel_size=1,strides=2)\n",
    "    x=Add()([tensor,x])    \n",
    "    x=ReLU()(x)\n",
    "    x=sep_bn(x, filters=728,kernel_size=3)\n",
    "    x=ReLU()(x)\n",
    "    x=sep_bn(x, filters=728,kernel_size=3)\n",
    "    x=MaxPool2D(pool_size=3,strides=2,padding='same')(x)    \n",
    "    tensor=conv_bn(tensor, filters=728, kernel_size=1,strides=2)\n",
    "    x=Add()([tensor,x])    \n",
    "    return x\n",
    "\n",
    "    \n",
    "\n",
    "    \n",
    "    "
   ]
  },
  {
   "cell_type": "code",
   "execution_count": 19,
   "metadata": {},
   "outputs": [],
   "source": [
    "def middle_flow(tensor):\n",
    "    for _ in range(8):\n",
    "        x=ReLU()(tensor)\n",
    "        x=sep_bn(x, filters=728,kernel_size=3)\n",
    "        x=ReLU()(x)\n",
    "        x=sep_bn(x, filters=728,kernel_size=3)\n",
    "        x=ReLU()(x)\n",
    "        x=sep_bn(x, filters=728,kernel_size=3)\n",
    "        tensor=Add()([tensor,x])\n",
    "    return tensor    \n",
    "    "
   ]
  },
  {
   "cell_type": "code",
   "execution_count": 27,
   "metadata": {},
   "outputs": [],
   "source": [
    "def exit_flow(tensor):\n",
    "    x=ReLU()(tensor)\n",
    "    x=sep_bn(x, filters=728,kernel_size=3)\n",
    "    x=ReLU()(x)\n",
    "    x=sep_bn(x, filters=1024,kernel_size=3)\n",
    "    x=MaxPool2D(pool_size=3,strides=2,padding='same')(x)\n",
    "    tensor=conv_bn(tensor, filters=1024, kernel_size=1,strides=2)\n",
    "    x=Add()([tensor,x])\n",
    "    x=sep_bn(x, filters=1536,kernel_size=3)\n",
    "    x=ReLU()(x)\n",
    "    x=sep_bn(x, filters=2048,kernel_size=3)\n",
    "    x=ReLU()(x)\n",
    "    x=GlobalAvgPool2D()(x)\n",
    "    x=Dense(units=1000,activation='softmax')(x)    \n",
    "    return x\n",
    "\n"
   ]
  },
  {
   "cell_type": "code",
   "execution_count": 28,
   "metadata": {},
   "outputs": [],
   "source": [
    "input=Input(shape=(299,299,3))\n",
    "x=entry_flow(input)\n",
    "x=middle_flow(x)\n",
    "output=exit_flow(x)\n",
    "\n",
    "from tensorflow.keras import Model\n",
    "model=Model(inputs=input,outputs=output)"
   ]
  },
  {
   "cell_type": "code",
   "execution_count": 42,
   "metadata": {},
   "outputs": [
    {
     "name": "stdout",
     "output_type": "stream",
     "text": [
      "Failed to import pydot. You must install pydot and graphviz for `pydotprint` to work.\n"
     ]
    }
   ],
   "source": [
    "from tensorflow.keras.utils import plot_model\n",
    "import pydotplus\n",
    "plot_model(model, to_file='model.png', show_shapes=True, show_layer_names=True,\n",
    "    rankdir='TB')"
   ]
  },
  {
   "cell_type": "code",
   "execution_count": null,
   "metadata": {},
   "outputs": [],
   "source": []
  }
 ],
 "metadata": {
  "kernelspec": {
   "display_name": "Python 3",
   "language": "python",
   "name": "python3"
  },
  "language_info": {
   "codemirror_mode": {
    "name": "ipython",
    "version": 3
   },
   "file_extension": ".py",
   "mimetype": "text/x-python",
   "name": "python",
   "nbconvert_exporter": "python",
   "pygments_lexer": "ipython3",
   "version": "3.7.3"
  }
 },
 "nbformat": 4,
 "nbformat_minor": 2
}
